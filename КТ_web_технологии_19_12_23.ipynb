{
  "nbformat": 4,
  "nbformat_minor": 0,
  "metadata": {
    "colab": {
      "provenance": []
    },
    "kernelspec": {
      "name": "python3",
      "display_name": "Python 3"
    },
    "language_info": {
      "name": "python"
    }
  },
  "cells": [
    {
      "cell_type": "markdown",
      "source": [
        "# Иван Иванов Иванович #\n",
        "**Пол:**Мужской\n",
        "# Менеджер по продажам #\n",
        "## Отдел маркетинга\n",
        "\n",
        "\n",
        "**Телефон:** +7 (495) 123-45-67\n",
        "\n",
        "**Электронная почта:** ivanov@company.com  \n",
        "\n",
        "**Веб-сайт:** [ivanov.com](https://learn.microsoft.com/en-us/microsoftteams/platform/task-modules-and-cards/cards/cards-reference)  \n",
        "\n",
        "**Навыки:** - Продажи и переговоры - Разработка стратегий маркетинга - Анализ данных и отчетность.\n",
        "\n",
        "**Образование:** - Московский государственный университет, факультет экономики, 2018-2022 - Курсы по продажам и маркетингу от [Guru](https://help.getguru.com/s/article/adding-markdown-to-guru-cards), 2023\n",
        "\n",
        "**Опыт работы:** - Специалист по продажам в [Trello](https://webapps.stackexchange.com/questions/21290/how-to-use-markdown-in-card-description)\n",
        "\n",
        "**Ссылка на Кристиана Бейла** - https://ru.wikipedia.org/wiki/%D0%91%D0%B5%D0%B9%D0%BB,_%D0%9A%D1%80%D0%B8%D1%81%D1%82%D0%B8%D0%B0%D0%BD\n",
        "\n",
        "![image](https://upload.wikimedia.org/wikipedia/commons/thumb/0/0a/Christian_Bale-7837.jpg/200px-Christian_Bale-7837.jpg)\n",
        "\n",
        "$$y(x) = \\frac{\\sum_{i=1}^{n} \\sum_{j=2}^{m} 9^2_i x_j}{\\sqrt{\\frac{9}{W^2}}} $$"
      ],
      "metadata": {
        "id": "sCFnuetIyjWC"
      }
    }
  ]
}